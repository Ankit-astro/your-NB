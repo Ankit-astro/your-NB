{
 "cells": [
  {
   "cell_type": "markdown",
   "metadata": {},
   "source": [
    "## Writing files\n",
    "\n",
    "First install [your](https://github.com/devanshkv/your)."
   ]
  },
  {
   "cell_type": "code",
   "execution_count": 1,
   "metadata": {},
   "outputs": [
    {
     "name": "stdout",
     "output_type": "stream",
     "text": [
      "Collecting git+https://github.com/devanshkv/your.git\n",
      "  Cloning https://github.com/devanshkv/your.git to /tmp/pip-req-build-ocb6_14x\n",
      "  Running command git clone -q https://github.com/devanshkv/your.git /tmp/pip-req-build-ocb6_14x\n",
      "Requirement already satisfied (use --upgrade to upgrade): your==0.4.9 from git+https://github.com/devanshkv/your.git in /home/dagarwal/soft/conda/envs/numba_gpu/lib/python3.6/site-packages/your-0.4.9-py3.6.egg\n",
      "Requirement already satisfied: matplotlib in /home/dagarwal/soft/conda/envs/numba_gpu/lib/python3.6/site-packages (from your==0.4.9) (3.2.1)\n",
      "Requirement already satisfied: numpy>=1.18.4 in /home/dagarwal/soft/conda/envs/numba_gpu/lib/python3.6/site-packages (from your==0.4.9) (1.18.4)\n",
      "Requirement already satisfied: h5py>=2.10.0 in /home/dagarwal/soft/conda/envs/numba_gpu/lib/python3.6/site-packages (from your==0.4.9) (2.10.0)\n",
      "Requirement already satisfied: scikit-image>=0.14.2 in /home/dagarwal/soft/conda/envs/numba_gpu/lib/python3.6/site-packages (from your==0.4.9) (0.17.2)\n",
      "Requirement already satisfied: scipy>=1.3.0 in /home/dagarwal/soft/conda/envs/numba_gpu/lib/python3.6/site-packages (from your==0.4.9) (1.4.1)\n",
      "Requirement already satisfied: numba>=0.48.0 in /home/dagarwal/soft/conda/envs/numba_gpu/lib/python3.6/site-packages (from your==0.4.9) (0.48.0)\n",
      "Requirement already satisfied: astropy>=4.0 in /home/dagarwal/soft/conda/envs/numba_gpu/lib/python3.6/site-packages (from your==0.4.9) (4.0.1.post1)\n",
      "Requirement already satisfied: Cython>=0.29.19 in /home/dagarwal/soft/conda/envs/numba_gpu/lib/python3.6/site-packages (from your==0.4.9) (0.29.19)\n",
      "Requirement already satisfied: tqdm>=4.46.0 in /home/dagarwal/soft/conda/envs/numba_gpu/lib/python3.6/site-packages (from your==0.4.9) (4.46.0)\n",
      "Requirement already satisfied: pandas>=1.0.3 in /home/dagarwal/soft/conda/envs/numba_gpu/lib/python3.6/site-packages (from your==0.4.9) (1.0.3)\n",
      "Requirement already satisfied: cycler>=0.10 in /home/dagarwal/soft/conda/envs/numba_gpu/lib/python3.6/site-packages (from matplotlib->your==0.4.9) (0.10.0)\n",
      "Requirement already satisfied: kiwisolver>=1.0.1 in /home/dagarwal/soft/conda/envs/numba_gpu/lib/python3.6/site-packages (from matplotlib->your==0.4.9) (1.2.0)\n",
      "Requirement already satisfied: pyparsing!=2.0.4,!=2.1.2,!=2.1.6,>=2.0.1 in /home/dagarwal/soft/conda/envs/numba_gpu/lib/python3.6/site-packages (from matplotlib->your==0.4.9) (2.4.7)\n",
      "Requirement already satisfied: python-dateutil>=2.1 in /home/dagarwal/soft/conda/envs/numba_gpu/lib/python3.6/site-packages (from matplotlib->your==0.4.9) (2.8.1)\n",
      "Requirement already satisfied: six in /home/dagarwal/soft/conda/envs/numba_gpu/lib/python3.6/site-packages (from h5py>=2.10.0->your==0.4.9) (1.15.0)\n",
      "Requirement already satisfied: networkx>=2.0 in /home/dagarwal/soft/conda/envs/numba_gpu/lib/python3.6/site-packages (from scikit-image>=0.14.2->your==0.4.9) (2.4)\n",
      "Requirement already satisfied: pillow!=7.1.0,!=7.1.1,>=4.3.0 in /home/dagarwal/soft/conda/envs/numba_gpu/lib/python3.6/site-packages (from scikit-image>=0.14.2->your==0.4.9) (7.1.2)\n",
      "Requirement already satisfied: imageio>=2.3.0 in /home/dagarwal/soft/conda/envs/numba_gpu/lib/python3.6/site-packages (from scikit-image>=0.14.2->your==0.4.9) (2.8.0)\n",
      "Requirement already satisfied: tifffile>=2019.7.26 in /home/dagarwal/soft/conda/envs/numba_gpu/lib/python3.6/site-packages (from scikit-image>=0.14.2->your==0.4.9) (2020.5.11)\n",
      "Requirement already satisfied: PyWavelets>=1.1.1 in /home/dagarwal/soft/conda/envs/numba_gpu/lib/python3.6/site-packages (from scikit-image>=0.14.2->your==0.4.9) (1.1.1)\n",
      "Requirement already satisfied: llvmlite<0.32.0,>=0.31.0dev0 in /home/dagarwal/soft/conda/envs/numba_gpu/lib/python3.6/site-packages (from numba>=0.48.0->your==0.4.9) (0.31.0)\n",
      "Requirement already satisfied: setuptools in /home/dagarwal/.local/lib/python3.6/site-packages (from numba>=0.48.0->your==0.4.9) (49.6.0)\n",
      "Requirement already satisfied: pytz>=2017.2 in /home/dagarwal/soft/conda/envs/numba_gpu/lib/python3.6/site-packages (from pandas>=1.0.3->your==0.4.9) (2020.1)\n",
      "Requirement already satisfied: decorator>=4.3.0 in /home/dagarwal/soft/conda/envs/numba_gpu/lib/python3.6/site-packages (from networkx>=2.0->scikit-image>=0.14.2->your==0.4.9) (4.4.2)\n",
      "Requirement already satisfied: imagecodecs>=2020.2.18 in /home/dagarwal/soft/conda/envs/numba_gpu/lib/python3.6/site-packages/imagecodecs-2020.2.18-py3.6-linux-x86_64.egg (from tifffile>=2019.7.26->scikit-image>=0.14.2->your==0.4.9) (2020.2.18)\n",
      "Building wheels for collected packages: your\n",
      "  Building wheel for your (setup.py) ... \u001b[?25ldone\n",
      "\u001b[?25h  Created wheel for your: filename=your-0.4.9-py3-none-any.whl size=74206 sha256=d9de1fc05b0e4aeee200de4fce12b298679613f3a95d4b543e490c67edb4b9dd\n",
      "  Stored in directory: /tmp/pip-ephem-wheel-cache-dvx9ggxr/wheels/af/ea/8e/0af2a86dd7ff7d8e91bf3e3d81d82853b1641f749d72144e32\n",
      "Successfully built your\n"
     ]
    }
   ],
   "source": [
    "!pip install git+https://github.com/devanshkv/your.git"
   ]
  },
  {
   "cell_type": "code",
   "execution_count": 2,
   "metadata": {},
   "outputs": [],
   "source": [
    "from your import Your, Writer\n",
    "import os\n",
    "import numpy as np"
   ]
  },
  {
   "cell_type": "code",
   "execution_count": 3,
   "metadata": {},
   "outputs": [],
   "source": [
    "import logging\n",
    "\n",
    "logger = logging.getLogger()\n",
    "logger = logging.basicConfig(\n",
    "    level=logging.INFO,\n",
    "    format=\"%(asctime)s - %(name)s - %(threadName)s - %(levelname)s -\" \" %(message)s\",\n",
    ")"
   ]
  },
  {
   "cell_type": "markdown",
   "metadata": {},
   "source": [
    "We can write + convert files using the [Writer](https://github.com/devanshkv/your/blob/master/your/writer.py) class in `Your`. Let's read a PSRFITS file and write out a PSRFITS and a filterbank file"
   ]
  },
  {
   "cell_type": "code",
   "execution_count": 4,
   "metadata": {},
   "outputs": [],
   "source": [
    "fits_file = \"../tests/data/28.fits\"\n",
    "your_original_file = Your(fits_file)"
   ]
  },
  {
   "cell_type": "markdown",
   "metadata": {},
   "source": [
    "While writing files you can also select the required channel and spectra range. Just give the required ranges as input to the Writer class.  "
   ]
  },
  {
   "cell_type": "code",
   "execution_count": 5,
   "metadata": {},
   "outputs": [],
   "source": [
    "writer_object = Writer(\n",
    "    your_original_file,\n",
    "    nstart=0,\n",
    "    nsamp=10,\n",
    "    c_min=10,\n",
    "    c_max=100,\n",
    "    outdir=\".\",\n",
    "    outname=\"filfromfits_28\",\n",
    ")"
   ]
  },
  {
   "cell_type": "markdown",
   "metadata": {},
   "source": [
    "### Let's write a filterbank file now. \n",
    "\n",
    "To write a filterbank we use the [`to_fil`](https://devanshkv.github.io/your/writer/#to_fil) method,"
   ]
  },
  {
   "cell_type": "code",
   "execution_count": 6,
   "metadata": {},
   "outputs": [
    {
     "name": "stderr",
     "output_type": "stream",
     "text": [
      "2020-08-26 16:43:42,545 - your.writer - MainThread - INFO - Writing data from spectra 0-10 in the frequency channel range 10-100 to filterbank\n",
      "2020-08-26 16:43:42,547 - your.formats.filwriter - MainThread - INFO - Trying to write data to filterbank file: ./filfromfits_28.fil\n",
      "2020-08-26 16:43:42,550 - your.formats.filwriter - MainThread - INFO - Output file does not already exist. Creating a new Filterbank file.\n",
      "2020-08-26 16:43:42,620 - your.formats.filwriter - MainThread - INFO - Writing 10 spectra to file: ./filfromfits_28.fil\n",
      "2020-08-26 16:43:42,623 - your.formats.filwriter - MainThread - INFO - Successfully written data to Filterbank file: ./filfromfits_28.fil\n"
     ]
    }
   ],
   "source": [
    "writer_object.to_fil()"
   ]
  },
  {
   "cell_type": "markdown",
   "metadata": {},
   "source": [
    "We can just read this Filterbank using [Your](https://github.com/devanshkv/your/blob/master/your/your.py) to make sure that the header parameters and the data are correctly written."
   ]
  },
  {
   "cell_type": "code",
   "execution_count": 7,
   "metadata": {
    "scrolled": false
   },
   "outputs": [
    {
     "data": {
      "text/plain": [
       "Unified Header:\n",
       "  \"basename\": \"filfromfits_28\"\n",
       "  \"bw\": -90.0\n",
       "  \"center_freq\": 1410.0\n",
       "  \"dec_deg\": 13.964475555555554\n",
       "  \"dtype\": \"uint8\"\n",
       "  \"fch1\": 1455.0\n",
       "  \"filelist\": [\n",
       "    \"filfromfits_28.fil\"\n",
       "  ]\n",
       "  \"filename\": \"filfromfits_28.fil\"\n",
       "  \"foff\": -1.0\n",
       "  \"frequency_decimation_factor\": 1\n",
       "  \"gb\": 75.61933243565039\n",
       "  \"gl\": 97.96004079061271\n",
       "  \"isfil\": true\n",
       "  \"isfits\": false\n",
       "  \"native_foff\": -1.0\n",
       "  \"native_nchans\": 90\n",
       "  \"native_nspectra\": 10.0\n",
       "  \"native_tsamp\": 0.00126646875\n",
       "  \"nbits\": 8\n",
       "  \"nchans\": 90\n",
       "  \"npol\": 1\n",
       "  \"nspectra\": 10.0\n",
       "  \"ra_deg\": 186.65681708333335\n",
       "  \"source_name\": \"src1\"\n",
       "  \"time_decimation_factor\": 1\n",
       "  \"tsamp\": 0.00126646875\n",
       "  \"tstart\": 58682.620316710374\n",
       "  \"tstart_utc\": \"2019-07-18T14:53:15.364\""
      ]
     },
     "execution_count": 7,
     "metadata": {},
     "output_type": "execute_result"
    }
   ],
   "source": [
    "your_written_filterbank = Your(\"filfromfits_28.fil\")\n",
    "your_written_filterbank.your_header"
   ]
  },
  {
   "cell_type": "markdown",
   "metadata": {},
   "source": [
    "We can also compare data from both the original file and the newly written file:"
   ]
  },
  {
   "cell_type": "code",
   "execution_count": 8,
   "metadata": {},
   "outputs": [],
   "source": [
    "original_data = your_original_file.get_data(0, 10)[:, 10:100]\n",
    "filterbank_data = your_written_filterbank.get_data(0, 10)"
   ]
  },
  {
   "cell_type": "code",
   "execution_count": 9,
   "metadata": {},
   "outputs": [
    {
     "data": {
      "text/plain": [
       "True"
      ]
     },
     "execution_count": 9,
     "metadata": {},
     "output_type": "execute_result"
    }
   ],
   "source": [
    "np.array_equal(original_data, filterbank_data)"
   ]
  },
  {
   "cell_type": "markdown",
   "metadata": {},
   "source": [
    "Looks good!\n",
    "\n",
    "### Let's write a PSRFITS file now. \n",
    "\n",
    "All the inputs defined while declaring Writer are still gonna be used. Let's change the outname for clarity\n",
    "and select some channels"
   ]
  },
  {
   "cell_type": "code",
   "execution_count": 10,
   "metadata": {},
   "outputs": [],
   "source": [
    "writer_object = Writer(\n",
    "    your_original_file,\n",
    "    nstart=0,\n",
    "    nsamp=10,\n",
    "    c_min=0,\n",
    "    c_max=100,\n",
    "    outdir=\".\",\n",
    "    outname=\"fitsfromfits_28\",\n",
    ")"
   ]
  },
  {
   "cell_type": "code",
   "execution_count": 11,
   "metadata": {},
   "outputs": [],
   "source": [
    "writer_object.outname = \"fitsfromfits_28\"\n",
    "writer_object.c_min = 0\n",
    "writer_object.c_max = 100"
   ]
  },
  {
   "cell_type": "markdown",
   "metadata": {},
   "source": [
    "To write a PSRFITS we use the [`to_fits`](https://devanshkv.github.io/your/writer/#to_fits) method,"
   ]
  },
  {
   "cell_type": "code",
   "execution_count": 12,
   "metadata": {},
   "outputs": [
    {
     "name": "stderr",
     "output_type": "stream",
     "text": [
      "2020-08-26 16:43:42,919 - root - MainThread - INFO - ObsInfo updated with relevant parameters\n",
      "2020-08-26 16:43:42,922 - your.formats.fitswriter - MainThread - INFO - Setting the following info to be written in ./fitsfromfits_28.fits \n",
      " {\n",
      "    \"ant_x\": -1601185.63,\n",
      "    \"ant_y\": -5041978.15,\n",
      "    \"ant_z\": 3554876.43,\n",
      "    \"bmaj_deg\": 0.0,\n",
      "    \"bmin_deg\": 0.0,\n",
      "    \"bpa_deg\": 0.0,\n",
      "    \"bw\": -100.0,\n",
      "    \"chan_bw\": -1.0,\n",
      "    \"dec_str\": \"13:57:52.1120\",\n",
      "    \"dt\": 0.00126646875,\n",
      "    \"fcenter\": 1415.0,\n",
      "    \"file_date\": \"2020-08-26T20:43:42\",\n",
      "    \"longitude\": -107.61833443381258,\n",
      "    \"nbits\": 8,\n",
      "    \"nchan\": 100,\n",
      "    \"nsblk\": 10,\n",
      "    \"nsuboffs\": 0.0,\n",
      "    \"obs_date\": \"2019-07-18T14:53:15\",\n",
      "    \"observer\": \"Human\",\n",
      "    \"proj_id\": \"Awesome_Project\",\n",
      "    \"ra_str\": \"12:26:37.6361\",\n",
      "    \"scan_len\": 0.0126646875,\n",
      "    \"src_name\": \"src1\",\n",
      "    \"stt_imjd\": 58682,\n",
      "    \"stt_lst\": 12438.193191755068,\n",
      "    \"stt_offs\": 0.3637763159349561,\n",
      "    \"stt_smjd\": 53595,\n",
      "    \"telescope\": \"VLA\"\n",
      "}\n",
      "2020-08-26 16:43:42,986 - root - MainThread - INFO - Building the PSRFITS table\n",
      "2020-08-26 16:43:43,158 - root - MainThread - INFO - Writing PSRFITS table to file: ./fitsfromfits_28.fits\n",
      "2020-08-26 16:43:43,219 - root - MainThread - INFO - Header information written in ./fitsfromfits_28.fits\n",
      "2020-08-26 16:43:43,221 - your.writer - MainThread - INFO - Filling PSRFITS file with data\n",
      "2020-08-26 16:43:43,330 - your.writer - MainThread - INFO - Number of subints to write 1\n",
      "2020-08-26 16:43:43,333 - your.writer - MainThread - INFO - Writing data to ./fitsfromfits_28.fits from subint = 0 to 1.\n",
      "2020-08-26 16:43:43,629 - your.writer - MainThread - INFO - All spectra written to ./fitsfromfits_28.fits\n"
     ]
    }
   ],
   "source": [
    "writer_object.to_fits()"
   ]
  },
  {
   "cell_type": "markdown",
   "metadata": {},
   "source": [
    "Similar to reading the PSRFITS file, we can also read a filterbank file and convert to both formats by first defining a [`writer_object`](https://devanshkv.github.io/your/writer/) and using the [`to_fits`](https://devanshkv.github.io/your/writer/#to_fits) and [`to_fil`](https://devanshkv.github.io/your/writer/#to_fil) methods."
   ]
  }
 ],
 "metadata": {
  "kernelspec": {
   "display_name": "Python 3",
   "language": "python",
   "name": "python3"
  },
  "language_info": {
   "codemirror_mode": {
    "name": "ipython",
    "version": 3
   },
   "file_extension": ".py",
   "mimetype": "text/x-python",
   "name": "python",
   "nbconvert_exporter": "python",
   "pygments_lexer": "ipython3",
   "version": "3.6.10"
  }
 },
 "nbformat": 4,
 "nbformat_minor": 2
}
