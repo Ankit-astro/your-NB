{
 "cells": [
  {
   "cell_type": "code",
   "execution_count": 1,
   "metadata": {},
   "outputs": [],
   "source": [
    "from your import Your, Writer\n",
    "import os\n",
    "import logging\n",
    "logger = logging.getLogger()\n",
    "logger = logging.basicConfig(level=logging.INFO, format='%(asctime)s - %(name)s - %(threadName)s - %(levelname)s -'\n",
    "                                                        ' %(message)s')"
   ]
  },
  {
   "cell_type": "markdown",
   "metadata": {},
   "source": [
    "We can write + convert files using the [Writer](https://github.com/devanshkv/your/blob/master/your/writer.py) class in Your"
   ]
  },
  {
   "cell_type": "markdown",
   "metadata": {},
   "source": [
    "Let's read a *Psrfits* file and write out a *Psrfits* and a *Filterbank* file"
   ]
  },
  {
   "cell_type": "code",
   "execution_count": 2,
   "metadata": {},
   "outputs": [],
   "source": [
    "fits_file = '../tests/data/28.fits'\n",
    "y = Your(fits_file)"
   ]
  },
  {
   "cell_type": "markdown",
   "metadata": {},
   "source": [
    "While writing files you can also select the required channel and spectra range. Just give the required ranges as input to the Writer class.  "
   ]
  },
  {
   "cell_type": "code",
   "execution_count": 3,
   "metadata": {},
   "outputs": [],
   "source": [
    "w = Writer(y, nstart=0, nsamp=10, outdir='.', outname='filfromfits_28')"
   ]
  },
  {
   "cell_type": "code",
   "execution_count": 4,
   "metadata": {},
   "outputs": [
    {
     "name": "stderr",
     "output_type": "stream",
     "text": [
      "2020-08-19 18:35:29,580 - your.writer - MainThread - INFO - Writing data from spectra 0-10 in the frequency channel range 0-336 to filterbank\n",
      "2020-08-19 18:35:29,581 - your.formats.filwriter - MainThread - INFO - Trying to write data to filterbank file: ./filfromfits_28.fil\n",
      "2020-08-19 18:35:29,582 - your.formats.filwriter - MainThread - INFO - Output file does not already exist. Creating a new Filterbank file.\n",
      "2020-08-19 18:35:29,676 - your.formats.filwriter - MainThread - INFO - Writing 10 spectra to file: ./filfromfits_28.fil\n",
      "2020-08-19 18:35:29,677 - your.formats.filwriter - MainThread - INFO - Successfully written data to Filterbank file: ./filfromfits_28.fil\n"
     ]
    }
   ],
   "source": [
    "w.to_fil()"
   ]
  },
  {
   "cell_type": "markdown",
   "metadata": {},
   "source": [
    "and we can just read this Filterbank using [Your](https://github.com/devanshkv/your/blob/master/your/your.py). Take a look at [Getting Started](https://github.com/devanshkv/your/blob/master/examples/Getting_started.ipynb) for more details on using Your. "
   ]
  },
  {
   "cell_type": "code",
   "execution_count": 5,
   "metadata": {
    "scrolled": false
   },
   "outputs": [
    {
     "data": {
      "text/plain": [
       "Unified Header:\n",
       "  \"basename\": \"filfromfits_28\"\n",
       "  \"bw\": 336.0\n",
       "  \"center_freq\": 1297.5\n",
       "  \"dec_deg\": 13.964475555555554\n",
       "  \"dtype\": \"uint8\"\n",
       "  \"fch1\": 1129.5\n",
       "  \"filelist\": [\n",
       "    \"filfromfits_28.fil\"\n",
       "  ]\n",
       "  \"filename\": \"filfromfits_28.fil\"\n",
       "  \"foff\": 1.0\n",
       "  \"frequency_decimation_factor\": 1\n",
       "  \"gb\": 75.61933243565039\n",
       "  \"gl\": 97.96004079061271\n",
       "  \"isfil\": true\n",
       "  \"isfits\": false\n",
       "  \"native_foff\": 1.0\n",
       "  \"native_nchans\": 336\n",
       "  \"native_nspectra\": 10.0\n",
       "  \"native_tsamp\": 0.00126646875\n",
       "  \"nbits\": 8\n",
       "  \"nchans\": 336\n",
       "  \"npol\": 1\n",
       "  \"nspectra\": 10.0\n",
       "  \"ra_deg\": 186.65681708333335\n",
       "  \"source_name\": \"src1\"\n",
       "  \"time_decimation_factor\": 1\n",
       "  \"tsamp\": 0.00126646875\n",
       "  \"tstart\": 58682.620316710374\n",
       "  \"tstart_utc\": \"2019-07-18T14:53:15.364\""
      ]
     },
     "execution_count": 5,
     "metadata": {},
     "output_type": "execute_result"
    }
   ],
   "source": [
    "yt = Your('filfromfits_28.fil')\n",
    "yt.your_header"
   ]
  },
  {
   "cell_type": "markdown",
   "metadata": {},
   "source": [
    "Looks good. Let's write a PSRFITS file now. \n",
    "\n",
    "All the inputs defined while declaring Writer are still gonna be used. Let's change the outname for clarity\n",
    "and select some channels"
   ]
  },
  {
   "cell_type": "code",
   "execution_count": 6,
   "metadata": {},
   "outputs": [],
   "source": [
    "w = Writer(y, nstart=0, nsamp=10, c_min=0, c_max = 100, outdir='.', outname='fitsfromfits_28')"
   ]
  },
  {
   "cell_type": "code",
   "execution_count": 7,
   "metadata": {},
   "outputs": [],
   "source": [
    "w.outname = 'fitsfromfits_28'\n",
    "w.c_min = 0\n",
    "w.c_max = 100"
   ]
  },
  {
   "cell_type": "code",
   "execution_count": 8,
   "metadata": {},
   "outputs": [
    {
     "name": "stderr",
     "output_type": "stream",
     "text": [
      "2020-08-19 18:35:29,721 - root - MainThread - INFO - ObsInfo updated with relevant parameters\n",
      "2020-08-19 18:35:29,722 - your.formats.fitswriter - MainThread - INFO - Setting the following info to be written in ./fitsfromfits_28.fits \n",
      " {\n",
      "    \"ant_x\": -1601185.63,\n",
      "    \"ant_y\": -5041978.15,\n",
      "    \"ant_z\": 3554876.43,\n",
      "    \"bmaj_deg\": 0.0,\n",
      "    \"bmin_deg\": 0.0,\n",
      "    \"bpa_deg\": 0.0,\n",
      "    \"bw\": 100.0,\n",
      "    \"chan_bw\": 1.0,\n",
      "    \"dec_str\": \"13:57:52.1120\",\n",
      "    \"dt\": 0.00126646875,\n",
      "    \"fcenter\": 1179.5,\n",
      "    \"file_date\": \"2020-08-19T22:35:29\",\n",
      "    \"longitude\": -107.61833443381258,\n",
      "    \"nbits\": 8,\n",
      "    \"nchan\": 100,\n",
      "    \"nsblk\": 10,\n",
      "    \"nsuboffs\": 0.0,\n",
      "    \"obs_date\": \"2019-07-18T14:53:15\",\n",
      "    \"observer\": \"Human\",\n",
      "    \"proj_id\": \"Awesome_Project\",\n",
      "    \"ra_str\": \"12:26:37.6361\",\n",
      "    \"scan_len\": 0.0126646875,\n",
      "    \"src_name\": \"src1\",\n",
      "    \"stt_imjd\": 58682,\n",
      "    \"stt_lst\": 12438.193191755068,\n",
      "    \"stt_offs\": 0.3637763159349561,\n",
      "    \"stt_smjd\": 53595,\n",
      "    \"telescope\": \"VLA\"\n",
      "}\n",
      "2020-08-19 18:35:29,731 - root - MainThread - INFO - Building the PSRFITS table\n",
      "2020-08-19 18:35:29,754 - root - MainThread - INFO - Writing PSRFITS table to file: ./fitsfromfits_28.fits\n",
      "2020-08-19 18:35:29,906 - root - MainThread - INFO - Header information written in ./fitsfromfits_28.fits\n",
      "2020-08-19 18:35:29,907 - your.writer - MainThread - INFO - Filling PSRFITS file with data\n",
      "2020-08-19 18:35:29,950 - your.writer - MainThread - INFO - Number of subints to write 1\n",
      "2020-08-19 18:35:29,951 - your.writer - MainThread - INFO - Writing data to ./fitsfromfits_28.fits from subint = 0 to 1.\n",
      "2020-08-19 18:35:30,576 - your.writer - MainThread - INFO - All spectra written to ./fitsfromfits_28.fits\n"
     ]
    }
   ],
   "source": [
    "w.to_fits()"
   ]
  },
  {
   "cell_type": "markdown",
   "metadata": {},
   "source": [
    "Let's now read a *Filterbank* file and write out a *Psrfits* and a *Filterbank* file"
   ]
  },
  {
   "cell_type": "code",
   "execution_count": 9,
   "metadata": {},
   "outputs": [],
   "source": [
    "fil_file = '../tests/data/28.fil'\n",
    "y = Your(fil_file)\n",
    "w = Writer(y, nstart=0, nsamp=10, outdir='.', outname='filfromfil_28')"
   ]
  },
  {
   "cell_type": "code",
   "execution_count": 10,
   "metadata": {},
   "outputs": [
    {
     "name": "stderr",
     "output_type": "stream",
     "text": [
      "2020-08-19 18:35:30,640 - your.writer - MainThread - INFO - Writing data from spectra 0-10 in the frequency channel range 0-336 to filterbank\n",
      "2020-08-19 18:35:30,641 - your.formats.filwriter - MainThread - INFO - Trying to write data to filterbank file: ./filfromfil_28.fil\n",
      "2020-08-19 18:35:30,642 - your.formats.filwriter - MainThread - INFO - Output file does not already exist. Creating a new Filterbank file.\n",
      "2020-08-19 18:35:30,725 - your.formats.filwriter - MainThread - INFO - Writing 10 spectra to file: ./filfromfil_28.fil\n",
      "2020-08-19 18:35:30,727 - your.formats.filwriter - MainThread - INFO - Successfully written data to Filterbank file: ./filfromfil_28.fil\n"
     ]
    }
   ],
   "source": [
    "w.to_fil()"
   ]
  },
  {
   "cell_type": "code",
   "execution_count": 11,
   "metadata": {},
   "outputs": [
    {
     "name": "stderr",
     "output_type": "stream",
     "text": [
      "2020-08-19 18:35:30,735 - root - MainThread - INFO - ObsInfo updated with relevant parameters\n",
      "2020-08-19 18:35:30,736 - your.formats.fitswriter - MainThread - INFO - Setting the following info to be written in ./fitsfromfil_28.fits \n",
      " {\n",
      "    \"ant_x\": -1601185.63,\n",
      "    \"ant_y\": -5041978.15,\n",
      "    \"ant_z\": 3554876.43,\n",
      "    \"bmaj_deg\": 0.0,\n",
      "    \"bmin_deg\": 0.0,\n",
      "    \"bpa_deg\": 0.0,\n",
      "    \"bw\": -336.0,\n",
      "    \"chan_bw\": -1.0,\n",
      "    \"dec_str\": \"13:57:52.1120\",\n",
      "    \"dt\": 0.00126646875,\n",
      "    \"fcenter\": 1297.0,\n",
      "    \"file_date\": \"2020-08-19T22:35:30\",\n",
      "    \"longitude\": -107.61833443381258,\n",
      "    \"nbits\": 8,\n",
      "    \"nchan\": 336,\n",
      "    \"nsblk\": 100,\n",
      "    \"nsuboffs\": 0.0,\n",
      "    \"obs_date\": \"2019-07-18T14:53:15\",\n",
      "    \"observer\": \"Human\",\n",
      "    \"proj_id\": \"Awesome_Project\",\n",
      "    \"ra_str\": \"12:26:37.6361\",\n",
      "    \"scan_len\": 0.126646875,\n",
      "    \"src_name\": \"src1\",\n",
      "    \"stt_imjd\": 58682,\n",
      "    \"stt_lst\": 12438.195731491169,\n",
      "    \"stt_offs\": 0.36630911752581596,\n",
      "    \"stt_smjd\": 53595,\n",
      "    \"telescope\": \"VLA\"\n",
      "}\n",
      "2020-08-19 18:35:30,745 - root - MainThread - INFO - Building the PSRFITS table\n",
      "2020-08-19 18:35:30,769 - root - MainThread - INFO - Writing PSRFITS table to file: ./fitsfromfil_28.fits\n",
      "2020-08-19 18:35:30,919 - root - MainThread - INFO - Header information written in ./fitsfromfil_28.fits\n",
      "2020-08-19 18:35:30,921 - your.writer - MainThread - INFO - Filling PSRFITS file with data\n",
      "2020-08-19 18:35:30,940 - your.writer - MainThread - INFO - Number of subints to write 1\n",
      "2020-08-19 18:35:30,941 - your.writer - MainThread - INFO - Writing data to ./fitsfromfil_28.fits from subint = 0 to 1.\n",
      "2020-08-19 18:35:31,395 - your.writer - MainThread - INFO - All spectra written to ./fitsfromfil_28.fits\n"
     ]
    }
   ],
   "source": [
    "w.nstart = 2\n",
    "w.nsamp = 100\n",
    "w.outname = 'fitsfromfil_28'\n",
    "w.to_fits()"
   ]
  }
 ],
 "metadata": {
  "kernelspec": {
   "display_name": "Python 3",
   "language": "python",
   "name": "python3"
  },
  "language_info": {
   "codemirror_mode": {
    "name": "ipython",
    "version": 3
   },
   "file_extension": ".py",
   "mimetype": "text/x-python",
   "name": "python",
   "nbconvert_exporter": "python",
   "pygments_lexer": "ipython3",
   "version": "3.6.8"
  }
 },
 "nbformat": 4,
 "nbformat_minor": 2
}
