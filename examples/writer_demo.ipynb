{
 "cells": [
  {
   "cell_type": "code",
   "execution_count": 1,
   "metadata": {},
   "outputs": [],
   "source": [
    "from your import Your, Writer\n",
    "import os\n",
    "import logging\n",
    "logger = logging.getLogger()\n",
    "logger = logging.basicConfig(level=logging.INFO, format='%(asctime)s - %(name)s - %(threadName)s - %(levelname)s -'\n",
    "                                                        ' %(message)s')"
   ]
  },
  {
   "cell_type": "markdown",
   "metadata": {},
   "source": [
    "### Reading Fits file and writing out fits and fil files"
   ]
  },
  {
   "cell_type": "code",
   "execution_count": 2,
   "metadata": {},
   "outputs": [],
   "source": [
    "fits_file = os.path.join('../tests/data/28.fits')\n",
    "y = Your(fits_file)\n",
    "w = Writer(y)"
   ]
  },
  {
   "cell_type": "code",
   "execution_count": 3,
   "metadata": {},
   "outputs": [
    {
     "name": "stderr",
     "output_type": "stream",
     "text": [
      "2020-08-12 20:58:53,430 - your.writer - MainThread - INFO - Writing data from spectra 0-10 in the frequency channel range 0-336 to filterbank\n",
      "2020-08-12 20:58:53,431 - your.utils.filwriter - MainThread - INFO - Trying to write data to filterbank file: ./28_from_fil.fil\n",
      "2020-08-12 20:58:53,483 - your.utils.filwriter - MainThread - INFO - Writing 10 spectra to file: ./28_from_fil.fil\n",
      "2020-08-12 20:58:53,484 - your.utils.filwriter - MainThread - INFO - Successfully written data to Filterbank file: ./28_from_fil.fil\n"
     ]
    }
   ],
   "source": [
    "w.to_fil(nstart=0, nsamp=10, outdir='.', filfile='28_from_fil.fil')"
   ]
  },
  {
   "cell_type": "code",
   "execution_count": 4,
   "metadata": {},
   "outputs": [
    {
     "name": "stderr",
     "output_type": "stream",
     "text": [
      "2020-08-12 20:58:53,491 - root - MainThread - INFO - ObsInfo updated with relevant parameters\n",
      "2020-08-12 20:58:53,492 - your.utils.fitswriter - MainThread - INFO - Setting the following info to be written in ./28_from_fil.fits \n",
      " {\n",
      "    \"ant_x\": -1601185.63,\n",
      "    \"ant_y\": -5041978.15,\n",
      "    \"ant_z\": 3554876.43,\n",
      "    \"bmaj_deg\": 0.0,\n",
      "    \"bmin_deg\": 0.0,\n",
      "    \"bpa_deg\": 0.0,\n",
      "    \"bw\": 336.0,\n",
      "    \"chan_bw\": 1.0,\n",
      "    \"dec_str\": \"13:57:52.1120\",\n",
      "    \"dt\": 0.00126646875,\n",
      "    \"fcenter\": 1297.0,\n",
      "    \"file_date\": \"2020-08-13T00:58:53\",\n",
      "    \"longitude\": -107.61833443381258,\n",
      "    \"nbits\": 8,\n",
      "    \"nchan\": 336,\n",
      "    \"nsblk\": 789,\n",
      "    \"nsuboffs\": 0.0,\n",
      "    \"obs_date\": \"2019-07-18T14:53:15\",\n",
      "    \"observer\": \"Human\",\n",
      "    \"proj_id\": \"Awesome_Project\",\n",
      "    \"ra_str\": \"12:26:37.6361\",\n",
      "    \"scan_len\": 6.99470690625,\n",
      "    \"src_name\": \"src1\",\n",
      "    \"stt_imjd\": 58682,\n",
      "    \"stt_lst\": 12438.193191755068,\n",
      "    \"stt_offs\": 0.3637763159349561,\n",
      "    \"stt_smjd\": 53595,\n",
      "    \"telescope\": \"VLA\"\n",
      "}\n",
      "2020-08-12 20:58:53,501 - root - MainThread - INFO - Building the PSRFITS table\n",
      "2020-08-12 20:58:53,522 - root - MainThread - INFO - Writing PSRFITS table to file: ./28_from_fil.fits\n",
      "2020-08-12 20:58:53,681 - root - MainThread - INFO - Header information written in ./28_from_fil.fits\n",
      "2020-08-12 20:58:53,683 - your.writer - MainThread - INFO - Filling PSRFITS file with data\n",
      "2020-08-12 20:58:53,702 - your.writer - MainThread - INFO - Number of subints to write 7\n",
      "2020-08-12 20:58:53,703 - your.writer - MainThread - INFO - Writing data to ./28_from_fil.fits from subint = 0 to 7.\n",
      "2020-08-12 20:58:54,414 - your.writer - MainThread - INFO - All spectra written to ./28_from_fil.fits\n"
     ]
    }
   ],
   "source": [
    "w.to_fits(outdir='.', fitsfile='28_from_fil.fits')"
   ]
  },
  {
   "cell_type": "markdown",
   "metadata": {},
   "source": [
    "### Reading fil file and writing out fil and fits file"
   ]
  },
  {
   "cell_type": "code",
   "execution_count": 5,
   "metadata": {},
   "outputs": [],
   "source": [
    "fil_file = os.path.join('../tests/data/28.fil')\n",
    "y = Your(fil_file)\n",
    "w = Writer(y)"
   ]
  },
  {
   "cell_type": "code",
   "execution_count": 6,
   "metadata": {},
   "outputs": [
    {
     "name": "stderr",
     "output_type": "stream",
     "text": [
      "2020-08-12 20:58:55,557 - your.writer - MainThread - INFO - Writing data from spectra 0-10 in the frequency channel range 0-336 to filterbank\n",
      "2020-08-12 20:58:55,557 - your.utils.filwriter - MainThread - INFO - Trying to write data to filterbank file: ./28_from_fits.fil\n",
      "2020-08-12 20:58:55,571 - your.utils.filwriter - MainThread - INFO - Writing 10 spectra to file: ./28_from_fits.fil\n",
      "2020-08-12 20:58:55,572 - your.utils.filwriter - MainThread - INFO - Successfully written data to Filterbank file: ./28_from_fits.fil\n"
     ]
    }
   ],
   "source": [
    "w.to_fil(nstart=0, nsamp=10, outdir='.', filfile='28_from_fits.fil')"
   ]
  },
  {
   "cell_type": "code",
   "execution_count": 7,
   "metadata": {},
   "outputs": [
    {
     "name": "stderr",
     "output_type": "stream",
     "text": [
      "2020-08-12 20:58:55,830 - root - MainThread - INFO - ObsInfo updated with relevant parameters\n",
      "2020-08-12 20:58:55,831 - your.utils.fitswriter - MainThread - INFO - Setting the following info to be written in ./28_from_fits.fits \n",
      " {\n",
      "    \"ant_x\": -1601185.63,\n",
      "    \"ant_y\": -5041978.15,\n",
      "    \"ant_z\": 3554876.43,\n",
      "    \"bmaj_deg\": 0.0,\n",
      "    \"bmin_deg\": 0.0,\n",
      "    \"bpa_deg\": 0.0,\n",
      "    \"bw\": 336.0,\n",
      "    \"chan_bw\": 1.0,\n",
      "    \"dec_str\": \"13:57:52.1120\",\n",
      "    \"dt\": 0.00126646875,\n",
      "    \"fcenter\": 1297.5,\n",
      "    \"file_date\": \"2020-08-13T00:58:55\",\n",
      "    \"longitude\": -107.61833443381258,\n",
      "    \"nbits\": 8,\n",
      "    \"nchan\": 336,\n",
      "    \"nsblk\": 789,\n",
      "    \"nsuboffs\": 0.0,\n",
      "    \"obs_date\": \"2019-07-18T14:53:15\",\n",
      "    \"observer\": \"Human\",\n",
      "    \"proj_id\": \"Awesome_Project\",\n",
      "    \"ra_str\": \"12:26:37.6361\",\n",
      "    \"scan_len\": 6.99470690625,\n",
      "    \"src_name\": \"src1\",\n",
      "    \"stt_imjd\": 58682,\n",
      "    \"stt_lst\": 12438.193191755068,\n",
      "    \"stt_offs\": 0.3637763159349561,\n",
      "    \"stt_smjd\": 53595,\n",
      "    \"telescope\": \"VLA\"\n",
      "}\n",
      "2020-08-12 20:58:55,840 - root - MainThread - INFO - Building the PSRFITS table\n",
      "2020-08-12 20:58:55,861 - root - MainThread - INFO - Writing PSRFITS table to file: ./28_from_fits.fits\n",
      "2020-08-12 20:58:55,887 - root - MainThread - INFO - Header information written in ./28_from_fits.fits\n",
      "2020-08-12 20:58:55,889 - your.writer - MainThread - INFO - Filling PSRFITS file with data\n",
      "2020-08-12 20:58:55,908 - your.writer - MainThread - INFO - Number of subints to write 7\n",
      "2020-08-12 20:58:55,908 - your.writer - MainThread - INFO - Writing data to ./28_from_fits.fits from subint = 0 to 7.\n",
      "2020-08-12 20:58:56,207 - your.writer - MainThread - INFO - All spectra written to ./28_from_fits.fits\n"
     ]
    }
   ],
   "source": [
    "w.to_fits(outdir='.', fitsfile='28_from_fits.fits')"
   ]
  }
 ],
 "metadata": {
  "kernelspec": {
   "display_name": "Python 3",
   "language": "python",
   "name": "python3"
  },
  "language_info": {
   "codemirror_mode": {
    "name": "ipython",
    "version": 3
   },
   "file_extension": ".py",
   "mimetype": "text/x-python",
   "name": "python",
   "nbconvert_exporter": "python",
   "pygments_lexer": "ipython3",
   "version": "3.6.8"
  }
 },
 "nbformat": 4,
 "nbformat_minor": 2
}
